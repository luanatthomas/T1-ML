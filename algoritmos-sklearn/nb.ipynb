{
 "cells": [
  {
   "cell_type": "code",
   "execution_count": 4,
   "metadata": {},
   "outputs": [],
   "source": [
    "from sklearn.naive_bayes import GaussianNB\n",
    "from sklearn.model_selection import train_test_split\n",
    "from sklearn.datasets import load_iris\n",
    "from sklearn.metrics import accuracy_score, precision_score, recall_score, f1_score, confusion_matrix"
   ]
  },
  {
   "cell_type": "code",
   "execution_count": 5,
   "metadata": {},
   "outputs": [],
   "source": [
    "def print_metrics(y_test, predictions, model_name):\n",
    "    # Matriz de Confusão\n",
    "    cm = confusion_matrix(y_test, predictions)\n",
    "    print(f\"\\nMatriz de Confusão ({model_name}):\\n\", cm)\n",
    "    \n",
    "    # Acurácia\n",
    "    accuracy = accuracy_score(y_test, predictions)\n",
    "    print(f\"Acurácia ({model_name}): {accuracy:.2f}\")\n",
    "    \n",
    "    # Precisão\n",
    "    precision = precision_score(y_test, predictions, average='weighted')\n",
    "    print(f\"Precisão ({model_name}): {precision:.2f}\")\n",
    "    \n",
    "    # Recall\n",
    "    recall = recall_score(y_test, predictions, average='weighted')\n",
    "    print(f\"Recall ({model_name}): {recall:.2f}\")\n",
    "    \n",
    "    # F1-Score\n",
    "    f1 = f1_score(y_test, predictions, average='weighted')\n",
    "    print(f\"F1-Score ({model_name}): {f1:.2f}\")"
   ]
  },
  {
   "cell_type": "code",
   "execution_count": 6,
   "metadata": {},
   "outputs": [
    {
     "name": "stdout",
     "output_type": "stream",
     "text": [
      "Acurácia do Naive Bayes: 1.00\n"
     ]
    }
   ],
   "source": [
    "data = load_iris()\n",
    "X = data.data\n",
    "y = data.target\n",
    "\n",
    "X_train, X_test, y_train, y_test = train_test_split(X, y, test_size=0.2, random_state=42)\n",
    "\n",
    "nb = GaussianNB()\n",
    "nb.fit(X_train, y_train)\n",
    "predictions = nb.predict(X_test)\n",
    "\n",
    "accuracy = accuracy_score(y_test, predictions)\n",
    "print(f\"Acurácia do Naive Bayes: {accuracy:.2f}\")\n"
   ]
  },
  {
   "cell_type": "code",
   "execution_count": 7,
   "metadata": {},
   "outputs": [
    {
     "name": "stdout",
     "output_type": "stream",
     "text": [
      "\n",
      "Matriz de Confusão (Naive Bayes):\n",
      " [[10  0  0]\n",
      " [ 0  9  0]\n",
      " [ 0  0 11]]\n",
      "Acurácia (Naive Bayes): 1.00\n",
      "Precisão (Naive Bayes): 1.00\n",
      "Recall (Naive Bayes): 1.00\n",
      "F1-Score (Naive Bayes): 1.00\n"
     ]
    }
   ],
   "source": [
    "print_metrics(y_test, predictions, \"Naive Bayes\")\n"
   ]
  },
  {
   "cell_type": "code",
   "execution_count": null,
   "metadata": {},
   "outputs": [],
   "source": []
  }
 ],
 "metadata": {
  "kernelspec": {
   "display_name": "Python 3",
   "language": "python",
   "name": "python3"
  },
  "language_info": {
   "codemirror_mode": {
    "name": "ipython",
    "version": 3
   },
   "file_extension": ".py",
   "mimetype": "text/x-python",
   "name": "python",
   "nbconvert_exporter": "python",
   "pygments_lexer": "ipython3",
   "version": "3.12.1"
  }
 },
 "nbformat": 4,
 "nbformat_minor": 2
}
