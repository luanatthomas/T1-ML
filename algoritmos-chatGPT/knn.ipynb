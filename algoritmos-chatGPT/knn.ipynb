{
 "cells": [
  {
   "cell_type": "code",
   "execution_count": 7,
   "metadata": {},
   "outputs": [],
   "source": [
    "import pandas as pd\n",
    "import numpy as np\n",
    "from collections import Counter\n",
    "from sklearn.model_selection import train_test_split\n",
    "from sklearn.metrics import accuracy_score, precision_score, recall_score, f1_score, confusion_matrix"
   ]
  },
  {
   "cell_type": "code",
   "execution_count": 8,
   "metadata": {},
   "outputs": [],
   "source": [
    "def print_metrics(y_test, predictions, model_name):\n",
    "    # Matriz de Confusão\n",
    "    cm = confusion_matrix(y_test, predictions)\n",
    "    print(f\"\\nMatriz de Confusão ({model_name}):\\n\", cm)\n",
    "    \n",
    "    # Acurácia\n",
    "    accuracy = accuracy_score(y_test, predictions)\n",
    "    print(f\"Acurácia ({model_name}): {accuracy:.2f}\")\n",
    "    \n",
    "    # Precisão\n",
    "    precision = precision_score(y_test, predictions, average='weighted')\n",
    "    print(f\"Precisão ({model_name}): {precision:.2f}\")\n",
    "    \n",
    "    # Recall\n",
    "    recall = recall_score(y_test, predictions, average='weighted')\n",
    "    print(f\"Recall ({model_name}): {recall:.2f}\")\n",
    "    \n",
    "    # F1-Score\n",
    "    f1 = f1_score(y_test, predictions, average='weighted')\n",
    "    print(f\"F1-Score ({model_name}): {f1:.2f}\")"
   ]
  },
  {
   "cell_type": "code",
   "execution_count": 9,
   "metadata": {},
   "outputs": [],
   "source": [
    "# Carregar o dataset Iris\n",
    "def load_iris_dataset():\n",
    "    url = \"https://archive.ics.uci.edu/ml/machine-learning-databases/iris/iris.data\"\n",
    "    columns = ['sepal_length', 'sepal_width', 'petal_length', 'petal_width', 'species']\n",
    "    iris = pd.read_csv(url, header=None, names=columns)\n",
    "    return iris"
   ]
  },
  {
   "cell_type": "code",
   "execution_count": 10,
   "metadata": {},
   "outputs": [],
   "source": [
    "# Função para calcular a distância euclidiana\n",
    "def euclidean_distance(row1, row2):\n",
    "    return np.sqrt(np.sum((row1 - row2) ** 2))"
   ]
  },
  {
   "cell_type": "code",
   "execution_count": 11,
   "metadata": {},
   "outputs": [],
   "source": [
    "\n",
    "# Implementação do KNN\n",
    "def knn(train_data, test_data, k):\n",
    "    predictions = []\n",
    "    \n",
    "    # Para cada amostra no conjunto de teste\n",
    "    for test_row in test_data:\n",
    "        distances = []\n",
    "        \n",
    "        # Calcular a distância de cada ponto do conjunto de treino\n",
    "        for train_row in train_data:\n",
    "            distance = euclidean_distance(test_row[:-1], train_row[:-1])\n",
    "            distances.append((train_row, distance))\n",
    "        \n",
    "        # Ordenar por distância (os mais próximos vêm primeiro)\n",
    "        distances.sort(key=lambda x: x[1])\n",
    "        \n",
    "        # Selecionar os 'k' mais próximos\n",
    "        neighbors = [dist[0][-1] for dist in distances[:k]]\n",
    "        \n",
    "        # Contar a frequência das classes dos vizinhos e escolher a mais comum\n",
    "        prediction = Counter(neighbors).most_common(1)[0][0]\n",
    "        predictions.append(prediction)\n",
    "    \n",
    "    return predictions"
   ]
  },
  {
   "cell_type": "code",
   "execution_count": 12,
   "metadata": {},
   "outputs": [],
   "source": [
    "# Função para calcular a acurácia\n",
    "def accuracy(y_true, y_pred):\n",
    "    return np.sum(y_true == y_pred) / len(y_true)"
   ]
  },
  {
   "cell_type": "code",
   "execution_count": 13,
   "metadata": {},
   "outputs": [
    {
     "name": "stdout",
     "output_type": "stream",
     "text": [
      "Acurácia do KNN: 100.00%\n"
     ]
    }
   ],
   "source": [
    "# Main\n",
    "if __name__ == \"__main__\":\n",
    "    # Carregar o dataset\n",
    "    iris_data = load_iris_dataset()\n",
    "    \n",
    "    # Codificar as classes em valores numéricos\n",
    "    iris_data['species'] = iris_data['species'].astype('category').cat.codes\n",
    "\n",
    "    # Dividir o dataset em features e labels\n",
    "    X = iris_data.iloc[:, :-1].values\n",
    "    y = iris_data.iloc[:, -1].values\n",
    "    \n",
    "    # Dividir em treino e teste\n",
    "    X_train, X_test, y_train, y_test = train_test_split(X, y, test_size=0.2, random_state=42)\n",
    "\n",
    "    # Concatenar as labels de treino com os dados para facilitar o processamento no algoritmo\n",
    "    train_data = np.column_stack((X_train, y_train))\n",
    "    test_data = np.column_stack((X_test, y_test))\n",
    "\n",
    "    # Definir o valor de k\n",
    "    k = 3\n",
    "    \n",
    "    # Fazer previsões\n",
    "    predictions = knn(train_data, test_data, k)\n",
    "    \n",
    "    # Calcular a acurácia\n",
    "    acc = accuracy(y_test, predictions)\n",
    "    print(f\"Acurácia do KNN: {acc * 100:.2f}%\")\n"
   ]
  },
  {
   "cell_type": "code",
   "execution_count": 14,
   "metadata": {},
   "outputs": [
    {
     "name": "stdout",
     "output_type": "stream",
     "text": [
      "\n",
      "Matriz de Confusão (KNN):\n",
      " [[10  0  0]\n",
      " [ 0  9  0]\n",
      " [ 0  0 11]]\n",
      "Acurácia (KNN): 1.00\n",
      "Precisão (KNN): 1.00\n",
      "Recall (KNN): 1.00\n",
      "F1-Score (KNN): 1.00\n"
     ]
    }
   ],
   "source": [
    "print_metrics(y_test, predictions, \"KNN\")\n"
   ]
  },
  {
   "cell_type": "code",
   "execution_count": null,
   "metadata": {},
   "outputs": [],
   "source": []
  }
 ],
 "metadata": {
  "kernelspec": {
   "display_name": "Python 3",
   "language": "python",
   "name": "python3"
  },
  "language_info": {
   "codemirror_mode": {
    "name": "ipython",
    "version": 3
   },
   "file_extension": ".py",
   "mimetype": "text/x-python",
   "name": "python",
   "nbconvert_exporter": "python",
   "pygments_lexer": "ipython3",
   "version": "3.12.1"
  }
 },
 "nbformat": 4,
 "nbformat_minor": 2
}
