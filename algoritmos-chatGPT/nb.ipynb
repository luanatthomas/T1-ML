{
 "cells": [
  {
   "cell_type": "code",
   "execution_count": 11,
   "metadata": {},
   "outputs": [],
   "source": [
    "import numpy as np\n",
    "import pandas as pd\n",
    "from sklearn.model_selection import train_test_split\n",
    "from sklearn.metrics import accuracy_score, precision_score, recall_score, f1_score, confusion_matrix"
   ]
  },
  {
   "cell_type": "code",
   "execution_count": 12,
   "metadata": {},
   "outputs": [],
   "source": [
    "def print_metrics(y_test, predictions, model_name):\n",
    "    # Matriz de Confusão\n",
    "    cm = confusion_matrix(y_test, predictions)\n",
    "    print(f\"\\nMatriz de Confusão ({model_name}):\\n\", cm)\n",
    "    \n",
    "    # Acurácia\n",
    "    accuracy = accuracy_score(y_test, predictions)\n",
    "    print(f\"Acurácia ({model_name}): {accuracy:.2f}\")\n",
    "    \n",
    "    # Precisão\n",
    "    precision = precision_score(y_test, predictions, average='weighted')\n",
    "    print(f\"Precisão ({model_name}): {precision:.2f}\")\n",
    "    \n",
    "    # Recall\n",
    "    recall = recall_score(y_test, predictions, average='weighted')\n",
    "    print(f\"Recall ({model_name}): {recall:.2f}\")\n",
    "    \n",
    "    # F1-Score\n",
    "    f1 = f1_score(y_test, predictions, average='weighted')\n",
    "    print(f\"F1-Score ({model_name}): {f1:.2f}\")"
   ]
  },
  {
   "cell_type": "code",
   "execution_count": 13,
   "metadata": {},
   "outputs": [],
   "source": [
    "# Carregar o dataset Iris\n",
    "url = \"https://archive.ics.uci.edu/ml/machine-learning-databases/iris/iris.data\"\n",
    "columns = ['sepal_length', 'sepal_width', 'petal_length', 'petal_width', 'class']\n",
    "data = pd.read_csv(url, header=None, names=columns)\n",
    "\n",
    "# Separar características e rótulos\n",
    "X = data.iloc[:, :-1].values  # características\n",
    "y = data.iloc[:, -1].values    # rótulos\n",
    "\n",
    "# Dividir em conjunto de treino e teste\n",
    "X_train, X_test, y_train, y_test = train_test_split(X, y, test_size=0.2, random_state=42)"
   ]
  },
  {
   "cell_type": "code",
   "execution_count": 14,
   "metadata": {},
   "outputs": [],
   "source": [
    "# Função para calcular a média e o desvio padrão\n",
    "def summarize_dataset(X, y):\n",
    "    summaries = {}\n",
    "    for label in np.unique(y):\n",
    "        X_label = X[y == label]\n",
    "        summaries[label] = [(np.mean(column), np.std(column)) for column in zip(*X_label)]\n",
    "    return summaries"
   ]
  },
  {
   "cell_type": "code",
   "execution_count": 15,
   "metadata": {},
   "outputs": [],
   "source": [
    "# Função para calcular a probabilidade\n",
    "def calculate_probability(x, mean, std):\n",
    "    exponent = np.exp(-((x - mean) ** 2 / (2 * std ** 2)))\n",
    "    return (1 / (np.sqrt(2 * np.pi) * std)) * exponent"
   ]
  },
  {
   "cell_type": "code",
   "execution_count": 16,
   "metadata": {},
   "outputs": [],
   "source": [
    "# Função para fazer previsões\n",
    "def predict(summaries, input_vector):\n",
    "    total_rows = sum([len(summaries[label]) for label in summaries])\n",
    "    probabilities = {}\n",
    "    \n",
    "    for label, summary in summaries.items():\n",
    "        probabilities[label] = 1\n",
    "        for i in range(len(summary)):\n",
    "            mean, std = summary[i]\n",
    "            probabilities[label] *= calculate_probability(input_vector[i], mean, std)\n",
    "        probabilities[label] *= (len(summaries[label]) / total_rows)\n",
    "    \n",
    "    return max(probabilities, key=probabilities.get)\n"
   ]
  },
  {
   "cell_type": "code",
   "execution_count": 17,
   "metadata": {},
   "outputs": [
    {
     "name": "stdout",
     "output_type": "stream",
     "text": [
      "Acurácia: 1.00\n"
     ]
    }
   ],
   "source": [
    "# Resumir o dataset\n",
    "summaries = summarize_dataset(X_train, y_train)\n",
    "\n",
    "# Fazer previsões\n",
    "predictions = [predict(summaries, row) for row in X_test]\n",
    "\n",
    "# Avaliar o modelo\n",
    "accuracy = accuracy_score(y_test, predictions)\n",
    "\n",
    "print(f\"Acurácia: {accuracy:.2f}\")\n"
   ]
  },
  {
   "cell_type": "code",
   "execution_count": 18,
   "metadata": {},
   "outputs": [
    {
     "name": "stdout",
     "output_type": "stream",
     "text": [
      "\n",
      "Matriz de Confusão (Naive Bayes):\n",
      " [[10  0  0]\n",
      " [ 0  9  0]\n",
      " [ 0  0 11]]\n",
      "Acurácia (Naive Bayes): 1.00\n",
      "Precisão (Naive Bayes): 1.00\n",
      "Recall (Naive Bayes): 1.00\n",
      "F1-Score (Naive Bayes): 1.00\n"
     ]
    }
   ],
   "source": [
    "print_metrics(y_test, predictions, \"Naive Bayes\")\n"
   ]
  },
  {
   "cell_type": "code",
   "execution_count": null,
   "metadata": {},
   "outputs": [],
   "source": []
  }
 ],
 "metadata": {
  "kernelspec": {
   "display_name": "Python 3",
   "language": "python",
   "name": "python3"
  },
  "language_info": {
   "codemirror_mode": {
    "name": "ipython",
    "version": 3
   },
   "file_extension": ".py",
   "mimetype": "text/x-python",
   "name": "python",
   "nbconvert_exporter": "python",
   "pygments_lexer": "ipython3",
   "version": "3.12.1"
  }
 },
 "nbformat": 4,
 "nbformat_minor": 2
}
